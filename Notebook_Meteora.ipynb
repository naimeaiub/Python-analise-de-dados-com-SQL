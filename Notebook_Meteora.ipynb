{
  "cells": [
    {
      "cell_type": "markdown",
      "metadata": {
        "id": "a-3R8AqasmHw"
      },
      "source": [
        "![Alt text: Slogan da Meteora.](https://i.imgur.com/VDYh2G1.png)"
      ]
    },
    {
      "cell_type": "markdown",
      "metadata": {
        "id": "_Vevz6MGruh_"
      },
      "source": [
        "# 1. Estruturando a tabela"
      ]
    },
    {
      "cell_type": "markdown",
      "metadata": {
        "id": "y4QPCEacpVmB"
      },
      "source": [
        "**Meteora** é uma loja que vende roupas e acessórios de diversas marcas por todos os estados do Brasil, para entender suas bases de dados e exibir informações relevantes com o objetivo de auxiliar suas tomadas de decisão."
      ]
    },
    {
      "cell_type": "code",
      "execution_count": 1,
      "metadata": {
        "id": "_z4zLD8Jxq2n"
      },
      "outputs": [],
      "source": [
        "import pandas as pd\n",
        "import matplotlib.pyplot as plt\n",
        "from sqlalchemy import create_engine, inspect, text"
      ]
    },
    {
      "cell_type": "markdown",
      "metadata": {
        "id": "GFTMs-TgufBk"
      },
      "source": [
        "**Sobre as tabelas**\n",
        "\n",
        "* itens_pedidos: tabela que informa sobre o que foi vendido, vai ter informação o preço, quantidade, para onde vai ser enviado e o frete do pedido\n",
        "* pedidos: vai falar sobre a venda feita, tendo informação sobre os vendedores, preço do pedido e a data da venda\n",
        "* produtos: informa características dos produtos que são comercializados na loja\n",
        "* vendedores: informa o nome dos vendedores."
      ]
    },
    {
      "cell_type": "code",
      "execution_count": 2,
      "metadata": {
        "id": "JloX5KfQmSOC"
      },
      "outputs": [],
      "source": [
        "url_itens_pedidos = 'https://github.com/alura-cursos/SQL-python-integracao/raw/main/TABELAS/itens_pedidos.csv'\n",
        "url_pedidos = 'https://github.com/alura-cursos/SQL-python-integracao/raw/main/TABELAS/pedidos.csv'\n",
        "url_produto = 'https://github.com/alura-cursos/SQL-python-integracao/raw/main/TABELAS/produtos.csv'\n",
        "url_vendedores = 'https://github.com/alura-cursos/SQL-python-integracao/raw/main/TABELAS/vendedores.csv'"
      ]
    },
    {
      "cell_type": "code",
      "execution_count": 3,
      "metadata": {
        "id": "yhzPXpIax7tC"
      },
      "outputs": [],
      "source": [
        "itens_pedidos = pd.read_csv(url_itens_pedidos)\n",
        "pedidos = pd.read_csv(url_pedidos)\n",
        "produtos = pd.read_csv(url_produto)\n",
        "vendedores = pd.read_csv(url_vendedores)"
      ]
    },
    {
      "cell_type": "code",
      "execution_count": 5,
      "metadata": {
        "id": "zSKtRJGax7jH"
      },
      "outputs": [],
      "source": [
        "engine = create_engine('sqlite:///:memory:')"
      ]
    },
    {
      "cell_type": "code",
      "execution_count": null,
      "metadata": {
        "id": "ICBTNNq3x7aG"
      },
      "outputs": [],
      "source": [
        "produtos.to_sql('produtos', engine,index = False)\n",
        "itens_pedidos.to_sql('itens_pedidos', engine,index = False)\n",
        "pedidos.to_sql('pedidos', engine,index = False)\n",
        "vendedores.to_sql('vendedores', engine,index = False)"
      ]
    },
    {
      "cell_type": "code",
      "execution_count": 12,
      "metadata": {
        "id": "VifcW3lmx7Rr"
      },
      "outputs": [
        {
          "name": "stdout",
          "output_type": "stream",
          "text": [
            "['itens_pedidos', 'pedidos', 'produtos', 'vendedores']\n"
          ]
        }
      ],
      "source": [
        "inspetor = inspect(engine)\n",
        "print(inspetor.get_table_names())"
      ]
    },
    {
      "cell_type": "markdown",
      "metadata": {
        "id": "buAzY0lKrueq"
      },
      "source": [
        "# 2. Primeiras consultas"
      ]
    },
    {
      "cell_type": "markdown",
      "metadata": {
        "id": "3GpQpQc_wlVc"
      },
      "source": [
        "Vamos entender a característica do produto que é comercializadora na Meteora, analisando a **condição** dos produtos vendidos."
      ]
    },
    {
      "cell_type": "code",
      "execution_count": 14,
      "metadata": {
        "id": "K-LFgmVHxOgO"
      },
      "outputs": [],
      "source": [
        "query = 'SELECT CONDICAO FROM PRODUTOS'"
      ]
    },
    {
      "cell_type": "code",
      "execution_count": 16,
      "metadata": {
        "id": "cQ50zFn_xOWW"
      },
      "outputs": [
        {
          "data": {
            "text/html": [
              "<div>\n",
              "<style scoped>\n",
              "    .dataframe tbody tr th:only-of-type {\n",
              "        vertical-align: middle;\n",
              "    }\n",
              "\n",
              "    .dataframe tbody tr th {\n",
              "        vertical-align: top;\n",
              "    }\n",
              "\n",
              "    .dataframe thead th {\n",
              "        text-align: right;\n",
              "    }\n",
              "</style>\n",
              "<table border=\"1\" class=\"dataframe\">\n",
              "  <thead>\n",
              "    <tr style=\"text-align: right;\">\n",
              "      <th></th>\n",
              "      <th>Condicao</th>\n",
              "    </tr>\n",
              "  </thead>\n",
              "  <tbody>\n",
              "    <tr>\n",
              "      <th>0</th>\n",
              "      <td>Usado</td>\n",
              "    </tr>\n",
              "    <tr>\n",
              "      <th>1</th>\n",
              "      <td>Usado</td>\n",
              "    </tr>\n",
              "    <tr>\n",
              "      <th>2</th>\n",
              "      <td>Usado</td>\n",
              "    </tr>\n",
              "    <tr>\n",
              "      <th>3</th>\n",
              "      <td>Usado</td>\n",
              "    </tr>\n",
              "    <tr>\n",
              "      <th>4</th>\n",
              "      <td>Usado</td>\n",
              "    </tr>\n",
              "    <tr>\n",
              "      <th>...</th>\n",
              "      <td>...</td>\n",
              "    </tr>\n",
              "    <tr>\n",
              "      <th>200</th>\n",
              "      <td>Usado</td>\n",
              "    </tr>\n",
              "    <tr>\n",
              "      <th>201</th>\n",
              "      <td>Usado</td>\n",
              "    </tr>\n",
              "    <tr>\n",
              "      <th>202</th>\n",
              "      <td>Usado</td>\n",
              "    </tr>\n",
              "    <tr>\n",
              "      <th>203</th>\n",
              "      <td>Usado</td>\n",
              "    </tr>\n",
              "    <tr>\n",
              "      <th>204</th>\n",
              "      <td>Novo com etiqueta</td>\n",
              "    </tr>\n",
              "  </tbody>\n",
              "</table>\n",
              "<p>205 rows × 1 columns</p>\n",
              "</div>"
            ],
            "text/plain": [
              "              Condicao\n",
              "0                Usado\n",
              "1                Usado\n",
              "2                Usado\n",
              "3                Usado\n",
              "4                Usado\n",
              "..                 ...\n",
              "200              Usado\n",
              "201              Usado\n",
              "202              Usado\n",
              "203              Usado\n",
              "204  Novo com etiqueta\n",
              "\n",
              "[205 rows x 1 columns]"
            ]
          },
          "execution_count": 16,
          "metadata": {},
          "output_type": "execute_result"
        }
      ],
      "source": [
        "with engine.connect() as con:\n",
        "    result = con.execute(text(query))\n",
        "    dados = result.fetchall()\n",
        "\n",
        "pd.DataFrame(dados, columns=result.keys())"
      ]
    },
    {
      "cell_type": "code",
      "execution_count": 17,
      "metadata": {
        "id": "o-6bbZOsxOJl"
      },
      "outputs": [],
      "source": [
        "def sql_def(query):\n",
        "    with engine.connect() as con:\n",
        "        result = con.execute(text(query))\n",
        "        dados = result.fetchall()\n",
        "\n",
        "    return pd.DataFrame(dados, columns=result.keys())"
      ]
    },
    {
      "cell_type": "code",
      "execution_count": 21,
      "metadata": {
        "id": "BfJH2fqvxN2H"
      },
      "outputs": [
        {
          "data": {
            "text/html": [
              "<div>\n",
              "<style scoped>\n",
              "    .dataframe tbody tr th:only-of-type {\n",
              "        vertical-align: middle;\n",
              "    }\n",
              "\n",
              "    .dataframe tbody tr th {\n",
              "        vertical-align: top;\n",
              "    }\n",
              "\n",
              "    .dataframe thead th {\n",
              "        text-align: right;\n",
              "    }\n",
              "</style>\n",
              "<table border=\"1\" class=\"dataframe\">\n",
              "  <thead>\n",
              "    <tr style=\"text-align: right;\">\n",
              "      <th></th>\n",
              "      <th>Condicao</th>\n",
              "      <th>Quantidade</th>\n",
              "    </tr>\n",
              "  </thead>\n",
              "  <tbody>\n",
              "    <tr>\n",
              "      <th>0</th>\n",
              "      <td>Novo com etiqueta</td>\n",
              "      <td>22</td>\n",
              "    </tr>\n",
              "    <tr>\n",
              "      <th>1</th>\n",
              "      <td>Novo sem etiqueta</td>\n",
              "      <td>7</td>\n",
              "    </tr>\n",
              "    <tr>\n",
              "      <th>2</th>\n",
              "      <td>Usado</td>\n",
              "      <td>176</td>\n",
              "    </tr>\n",
              "  </tbody>\n",
              "</table>\n",
              "</div>"
            ],
            "text/plain": [
              "            Condicao  Quantidade\n",
              "0  Novo com etiqueta          22\n",
              "1  Novo sem etiqueta           7\n",
              "2              Usado         176"
            ]
          },
          "execution_count": 21,
          "metadata": {},
          "output_type": "execute_result"
        }
      ],
      "source": [
        "query = '''SELECT CONDICAO, count(*) AS 'Quantidade'\n",
        "            FROM PRODUTOS \n",
        "            GROUP BY CONDICAO;'''\n",
        "\n",
        "df_produtos = sql_def(query)\n",
        "df_produtos"
      ]
    },
    {
      "cell_type": "code",
      "execution_count": 22,
      "metadata": {},
      "outputs": [
        {
          "data": {
            "text/plain": [
              "<BarContainer object of 3 artists>"
            ]
          },
          "execution_count": 22,
          "metadata": {},
          "output_type": "execute_result"
        },
        {
          "data": {
            "image/png": "[encoded data removed]",
            "text/plain": [
              "<Figure size 640x480 with 1 Axes>"
            ]
          },
          "metadata": {},
          "output_type": "display_data"
        }
      ],
      "source": [
        "plt.bar(df_produtos.Condicao, df_produtos.Quantidade, color = '#9353FF')\n",
        "plt.title('Produtos')"
      ]
    },
    {
      "cell_type": "markdown",
      "metadata": {
        "id": "hjrfeRPn1NbY"
      },
      "source": [
        "Agora precisamos ranquear os produtos que mais foram pedidos por **quantidade** para entender a necessidade de um estoque de produtos na loja."
      ]
    },
    {
      "cell_type": "code",
      "execution_count": 24,
      "metadata": {
        "id": "hZ6znHyEQJGp"
      },
      "outputs": [
        {
          "data": {
            "text/html": [
              "<div>\n",
              "<style scoped>\n",
              "    .dataframe tbody tr th:only-of-type {\n",
              "        vertical-align: middle;\n",
              "    }\n",
              "\n",
              "    .dataframe tbody tr th {\n",
              "        vertical-align: top;\n",
              "    }\n",
              "\n",
              "    .dataframe thead th {\n",
              "        text-align: right;\n",
              "    }\n",
              "</style>\n",
              "<table border=\"1\" class=\"dataframe\">\n",
              "  <thead>\n",
              "    <tr style=\"text-align: right;\">\n",
              "      <th></th>\n",
              "      <th>produto_id</th>\n",
              "      <th>produto</th>\n",
              "      <th>preco</th>\n",
              "      <th>marca</th>\n",
              "      <th>sku</th>\n",
              "      <th>Condicao</th>\n",
              "    </tr>\n",
              "  </thead>\n",
              "  <tbody>\n",
              "    <tr>\n",
              "      <th>0</th>\n",
              "      <td>21244</td>\n",
              "      <td>Oculos Lente Azulada</td>\n",
              "      <td>1120</td>\n",
              "      <td>D&amp;g Dolce &amp; Gabbana</td>\n",
              "      <td>209297</td>\n",
              "      <td>Usado</td>\n",
              "    </tr>\n",
              "    <tr>\n",
              "      <th>1</th>\n",
              "      <td>9981</td>\n",
              "      <td>Bolsa Coral Saco</td>\n",
              "      <td>4000</td>\n",
              "      <td>Givenchy</td>\n",
              "      <td>278612</td>\n",
              "      <td>Usado</td>\n",
              "    </tr>\n",
              "    <tr>\n",
              "      <th>2</th>\n",
              "      <td>84176</td>\n",
              "      <td>Camisa Xadrez Verde</td>\n",
              "      <td>310</td>\n",
              "      <td>Joe Fresh</td>\n",
              "      <td>322482</td>\n",
              "      <td>Usado</td>\n",
              "    </tr>\n",
              "  </tbody>\n",
              "</table>\n",
              "</div>"
            ],
            "text/plain": [
              "   produto_id               produto  preco                marca     sku  \\\n",
              "0       21244  Oculos Lente Azulada   1120  D&g Dolce & Gabbana  209297   \n",
              "1        9981      Bolsa Coral Saco   4000             Givenchy  278612   \n",
              "2       84176   Camisa Xadrez Verde    310            Joe Fresh  322482   \n",
              "\n",
              "  Condicao  \n",
              "0    Usado  \n",
              "1    Usado  \n",
              "2    Usado  "
            ]
          },
          "execution_count": 24,
          "metadata": {},
          "output_type": "execute_result"
        }
      ],
      "source": [
        "sql_def('SELECT * FROM PRODUTOS').head(3)"
      ]
    },
    {
      "cell_type": "code",
      "execution_count": 25,
      "metadata": {
        "id": "s45ciT3xQI_U"
      },
      "outputs": [
        {
          "data": {
            "text/html": [
              "<div>\n",
              "<style scoped>\n",
              "    .dataframe tbody tr th:only-of-type {\n",
              "        vertical-align: middle;\n",
              "    }\n",
              "\n",
              "    .dataframe tbody tr th {\n",
              "        vertical-align: top;\n",
              "    }\n",
              "\n",
              "    .dataframe thead th {\n",
              "        text-align: right;\n",
              "    }\n",
              "</style>\n",
              "<table border=\"1\" class=\"dataframe\">\n",
              "  <thead>\n",
              "    <tr style=\"text-align: right;\">\n",
              "      <th></th>\n",
              "      <th>id_nf</th>\n",
              "      <th>produto_id</th>\n",
              "      <th>pedido_id</th>\n",
              "      <th>quantidade</th>\n",
              "      <th>valor_unitario</th>\n",
              "      <th>valor_total</th>\n",
              "      <th>Estado</th>\n",
              "      <th>frete</th>\n",
              "    </tr>\n",
              "  </thead>\n",
              "  <tbody>\n",
              "    <tr>\n",
              "      <th>0</th>\n",
              "      <td>1</td>\n",
              "      <td>41518</td>\n",
              "      <td>341</td>\n",
              "      <td>3</td>\n",
              "      <td>260</td>\n",
              "      <td>780</td>\n",
              "      <td>BR-BA</td>\n",
              "      <td>156.0</td>\n",
              "    </tr>\n",
              "    <tr>\n",
              "      <th>1</th>\n",
              "      <td>2</td>\n",
              "      <td>4307</td>\n",
              "      <td>1174</td>\n",
              "      <td>5</td>\n",
              "      <td>6175</td>\n",
              "      <td>30875</td>\n",
              "      <td>BR-RJ</td>\n",
              "      <td>6175.0</td>\n",
              "    </tr>\n",
              "    <tr>\n",
              "      <th>2</th>\n",
              "      <td>3</td>\n",
              "      <td>22407</td>\n",
              "      <td>1399</td>\n",
              "      <td>3</td>\n",
              "      <td>200</td>\n",
              "      <td>600</td>\n",
              "      <td>BR-PB</td>\n",
              "      <td>120.0</td>\n",
              "    </tr>\n",
              "  </tbody>\n",
              "</table>\n",
              "</div>"
            ],
            "text/plain": [
              "   id_nf  produto_id  pedido_id  quantidade  valor_unitario  valor_total  \\\n",
              "0      1       41518        341           3             260          780   \n",
              "1      2        4307       1174           5            6175        30875   \n",
              "2      3       22407       1399           3             200          600   \n",
              "\n",
              "  Estado   frete  \n",
              "0  BR-BA   156.0  \n",
              "1  BR-RJ  6175.0  \n",
              "2  BR-PB   120.0  "
            ]
          },
          "execution_count": 25,
          "metadata": {},
          "output_type": "execute_result"
        }
      ],
      "source": [
        "sql_def('SELECT * FROM itens_pedidos').head(3)"
      ]
    },
    {
      "cell_type": "code",
      "execution_count": 36,
      "metadata": {
        "id": "fzMrr5FWQI2i"
      },
      "outputs": [
        {
          "data": {
            "text/html": [
              "<div>\n",
              "<style scoped>\n",
              "    .dataframe tbody tr th:only-of-type {\n",
              "        vertical-align: middle;\n",
              "    }\n",
              "\n",
              "    .dataframe tbody tr th {\n",
              "        vertical-align: top;\n",
              "    }\n",
              "\n",
              "    .dataframe thead th {\n",
              "        text-align: right;\n",
              "    }\n",
              "</style>\n",
              "<table border=\"1\" class=\"dataframe\">\n",
              "  <thead>\n",
              "    <tr style=\"text-align: right;\">\n",
              "      <th></th>\n",
              "      <th>produto</th>\n",
              "      <th>Quantidade</th>\n",
              "    </tr>\n",
              "  </thead>\n",
              "  <tbody>\n",
              "    <tr>\n",
              "      <th>0</th>\n",
              "      <td>Vestido Malha Estampa</td>\n",
              "      <td>318</td>\n",
              "    </tr>\n",
              "    <tr>\n",
              "      <th>1</th>\n",
              "      <td>Blusa Listrada Malha</td>\n",
              "      <td>322</td>\n",
              "    </tr>\n",
              "    <tr>\n",
              "      <th>2</th>\n",
              "      <td>Blusa Malha Azul</td>\n",
              "      <td>325</td>\n",
              "    </tr>\n",
              "    <tr>\n",
              "      <th>3</th>\n",
              "      <td>Blusa Babados Off-white</td>\n",
              "      <td>337</td>\n",
              "    </tr>\n",
              "    <tr>\n",
              "      <th>4</th>\n",
              "      <td>Blusa Cinza</td>\n",
              "      <td>341</td>\n",
              "    </tr>\n",
              "    <tr>\n",
              "      <th>...</th>\n",
              "      <td>...</td>\n",
              "      <td>...</td>\n",
              "    </tr>\n",
              "    <tr>\n",
              "      <th>196</th>\n",
              "      <td>Saia Midi Cinto</td>\n",
              "      <td>549</td>\n",
              "    </tr>\n",
              "    <tr>\n",
              "      <th>197</th>\n",
              "      <td>Calca Alfaiataria Preta</td>\n",
              "      <td>750</td>\n",
              "    </tr>\n",
              "    <tr>\n",
              "      <th>198</th>\n",
              "      <td>Saia Pregas Preta</td>\n",
              "      <td>751</td>\n",
              "    </tr>\n",
              "    <tr>\n",
              "      <th>199</th>\n",
              "      <td>Calca Jeans Costuras</td>\n",
              "      <td>755</td>\n",
              "    </tr>\n",
              "    <tr>\n",
              "      <th>200</th>\n",
              "      <td>Vestido Recortes Cores</td>\n",
              "      <td>795</td>\n",
              "    </tr>\n",
              "  </tbody>\n",
              "</table>\n",
              "<p>201 rows × 2 columns</p>\n",
              "</div>"
            ],
            "text/plain": [
              "                     produto  Quantidade\n",
              "0      Vestido Malha Estampa         318\n",
              "1       Blusa Listrada Malha         322\n",
              "2           Blusa Malha Azul         325\n",
              "3    Blusa Babados Off-white         337\n",
              "4                Blusa Cinza         341\n",
              "..                       ...         ...\n",
              "196          Saia Midi Cinto         549\n",
              "197  Calca Alfaiataria Preta         750\n",
              "198        Saia Pregas Preta         751\n",
              "199     Calca Jeans Costuras         755\n",
              "200   Vestido Recortes Cores         795\n",
              "\n",
              "[201 rows x 2 columns]"
            ]
          },
          "execution_count": 36,
          "metadata": {},
          "output_type": "execute_result"
        }
      ],
      "source": [
        "query = '''select produtos.produto, sum(itens_pedidos.quantidade) AS Quantidade\n",
        "from itens_pedidos \n",
        "join produtos on itens_pedidos.produto_id = produtos.produto_id\n",
        "group by produtos.produto\n",
        "order by Quantidade ASC'''\n",
        "df_prod_quant = sql_def(query)\n",
        "df_prod_quant"
      ]
    },
    {
      "cell_type": "code",
      "execution_count": 37,
      "metadata": {
        "id": "zfEGCbCGQIuV"
      },
      "outputs": [
        {
          "data": {
            "image/png": "[encoded data removed]",
            "text/plain": [
              "<Figure size 640x480 with 1 Axes>"
            ]
          },
          "metadata": {},
          "output_type": "display_data"
        }
      ],
      "source": [
        "plt.barh(df_prod_quant.produto[-10:], df_prod_quant.Quantidade[-10:], color = '#9353FF')\n",
        "\n",
        "plt.xlabel('Quantidade Vendida')\n",
        "plt.ylabel('Produtos')\n",
        "plt.title('Produtos mais vendidos')\n",
        "\n",
        "plt.show()"
      ]
    },
    {
      "cell_type": "markdown",
      "metadata": {
        "id": "c8k9ik5brubo"
      },
      "source": [
        "# 3. Lidando com filtro"
      ]
    },
    {
      "cell_type": "markdown",
      "metadata": {
        "id": "6QhdhGf33MD6"
      },
      "source": [
        "Vamos iniciar uma análise de desempenho do **time de vendedores** da Meteora. A intenção aqui é entender como se deram as vendas dos vendedores no **ano anterior** para que possam ser aplicadas promoções e bônus salarial para a equipe no ano atual da tabela que é 2021"
      ]
    },
    {
      "cell_type": "code",
      "execution_count": null,
      "metadata": {
        "id": "9crosa9yP_pe"
      },
      "outputs": [],
      "source": []
    },
    {
      "cell_type": "code",
      "execution_count": null,
      "metadata": {
        "id": "Ag0FCU2uP_iV"
      },
      "outputs": [],
      "source": []
    },
    {
      "cell_type": "markdown",
      "metadata": {
        "id": "f9mXytOd3wqx"
      },
      "source": [
        "Para entender o desempenho de vendas dos vendedores no ano de 2020, é preciso trabalhar com os dados que estão presentes apenas no ano de 2020."
      ]
    },
    {
      "cell_type": "code",
      "execution_count": null,
      "metadata": {
        "id": "01ks4iX7P-EH"
      },
      "outputs": [],
      "source": []
    },
    {
      "cell_type": "markdown",
      "metadata": {
        "id": "k5unl1CEruYG"
      },
      "source": [
        "# 4. Avançando nas relações"
      ]
    },
    {
      "cell_type": "markdown",
      "metadata": {
        "id": "t8A1eRy13_xm"
      },
      "source": [
        "A Meteora agora deseja incrementar as suas vendas no **estado de São Paulo (SP)**, por acreditar ser uma região mais propícia às vendas já que tem uma boa concentração de pessoas e mercado também.\n",
        "\n",
        "Mas será que São Paulo já não rende muitas vendas em relação a outros estados?"
      ]
    },
    {
      "cell_type": "code",
      "execution_count": null,
      "metadata": {
        "id": "ISFl7vCnPx-B"
      },
      "outputs": [],
      "source": []
    },
    {
      "cell_type": "markdown",
      "metadata": {
        "id": "cJxpfDVQ4Q0d"
      },
      "source": [
        "Uma das ações que a Meteora pretende seguir para as vendas em SP é escolher dois de seus vendedores para que eles **foquem suas vendas** lá. Para essa escolha é interessante ter os profissionais que **mais tenham vendido** para as pessoas da região."
      ]
    },
    {
      "cell_type": "code",
      "execution_count": null,
      "metadata": {
        "id": "dj0gQyUnPuLm"
      },
      "outputs": [],
      "source": []
    }
  ],
  "metadata": {
    "colab": {
      "collapsed_sections": [
        "c8k9ik5brubo",
        "k5unl1CEruYG"
      ],
      "provenance": []
    },
    "kernelspec": {
      "display_name": "Python 3",
      "name": "python3"
    },
    "language_info": {
      "codemirror_mode": {
        "name": "ipython",
        "version": 3
      },
      "file_extension": ".py",
      "mimetype": "text/x-python",
      "name": "python",
      "nbconvert_exporter": "python",
      "pygments_lexer": "ipython3",
      "version": "3.11.7"
    }
  },
  "nbformat": 4,
  "nbformat_minor": 0
}
